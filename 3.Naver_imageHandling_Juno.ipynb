{
 "cells": [
  {
   "cell_type": "markdown",
   "metadata": {},
   "source": [
    "# Naver Image Handling"
   ]
  },
  {
   "cell_type": "code",
   "execution_count": 1,
   "metadata": {},
   "outputs": [
    {
     "name": "stdout",
     "output_type": "stream",
     "text": [
      "PACKAGE LOADED\n",
      "CURRENT FOLDER IS (C:\\Users\\Juno\\Desktop\\juno_project\\Webtoon-Recommender_System)\n"
     ]
    }
   ],
   "source": [
    "import os\n",
    "from scipy.misc import imread, imresize\n",
    "cwd = os.getcwd()\n",
    "print(\"PACKAGE LOADED\")\n",
    "print(\"CURRENT FOLDER IS (%s)\" % (cwd))"
   ]
  },
  {
   "cell_type": "markdown",
   "metadata": {},
   "source": [
    "### RGB2Gray"
   ]
  },
  {
   "cell_type": "code",
   "execution_count": 22,
   "metadata": {},
   "outputs": [],
   "source": [
    "def rgb2gray(rgb):\n",
    "    if len(rgb.shape) is 3:\n",
    "        return np.dot(rgb[...,3], [0.299,0.587,0.114])\n",
    "    else:\n",
    "        return rgb"
   ]
  },
  {
   "cell_type": "markdown",
   "metadata": {},
   "source": [
    "### Load Image\n",
    "- image resize\n",
    "- image RGB2Gray or Gray2RGB\n",
    "- Make the categories with the image's name"
   ]
  },
  {
   "cell_type": "code",
   "execution_count": 21,
   "metadata": {},
   "outputs": [],
   "source": [
    "# 웹툰 labeling을 위한 dictionary를 만든다.\n",
    "\n",
    "# Load info\n",
    "info = pd.read_csv(\"data_Juno/webtoon_naver_info_by_genres.csv\")\n",
    "\n",
    "# make dict\n",
    "dic = {}\n",
    "for i, id in enumerate(info.unique_id):\n",
    "    dic[id] = i"
   ]
  },
  {
   "cell_type": "code",
   "execution_count": 35,
   "metadata": {},
   "outputs": [
    {
     "name": "stderr",
     "output_type": "stream",
     "text": [
      "C:\\ProgramData\\Anaconda3\\lib\\site-packages\\ipykernel_launcher.py:9: DeprecationWarning: `imread` is deprecated!\n",
      "`imread` is deprecated in SciPy 1.0.0, and will be removed in 1.2.0.\n",
      "Use ``imageio.imread`` instead.\n",
      "  if __name__ == '__main__':\n",
      "C:\\ProgramData\\Anaconda3\\lib\\site-packages\\ipykernel_launcher.py:15: DeprecationWarning: `imresize` is deprecated!\n",
      "`imresize` is deprecated in SciPy 1.0.0, and will be removed in 1.2.0.\n",
      "Use ``skimage.transform.resize`` instead.\n",
      "  from ipykernel import kernelapp as app\n"
     ]
    },
    {
     "name": "stdout",
     "output_type": "stream",
     "text": [
      "now: 18510 finished!!:\r"
     ]
    },
    {
     "ename": "KeyboardInterrupt",
     "evalue": "",
     "output_type": "error",
     "traceback": [
      "\u001b[1;31m---------------------------------------------------------------------------\u001b[0m",
      "\u001b[1;31mKeyboardInterrupt\u001b[0m                         Traceback (most recent call last)",
      "\u001b[1;32m<ipython-input-35-006799969ef9>\u001b[0m in \u001b[0;36m<module>\u001b[1;34m()\u001b[0m\n\u001b[0;32m     25\u001b[0m         \u001b[0mtotallabel\u001b[0m \u001b[1;33m=\u001b[0m \u001b[0mcurr_label\u001b[0m\u001b[1;33m\u001b[0m\u001b[0m\n\u001b[0;32m     26\u001b[0m     \u001b[1;32melse\u001b[0m\u001b[1;33m:\u001b[0m\u001b[1;33m\u001b[0m\u001b[0m\n\u001b[1;32m---> 27\u001b[1;33m         \u001b[0mtotalimg\u001b[0m \u001b[1;33m=\u001b[0m \u001b[0mnp\u001b[0m\u001b[1;33m.\u001b[0m\u001b[0mconcatenate\u001b[0m\u001b[1;33m(\u001b[0m\u001b[1;33m(\u001b[0m\u001b[0mtotalimg\u001b[0m\u001b[1;33m,\u001b[0m \u001b[0mimgvec\u001b[0m\u001b[1;33m)\u001b[0m\u001b[1;33m,\u001b[0m \u001b[0maxis\u001b[0m\u001b[1;33m=\u001b[0m\u001b[1;36m0\u001b[0m\u001b[1;33m)\u001b[0m\u001b[1;33m\u001b[0m\u001b[0m\n\u001b[0m\u001b[0;32m     28\u001b[0m         \u001b[0mtotallabel\u001b[0m \u001b[1;33m=\u001b[0m \u001b[0mnp\u001b[0m\u001b[1;33m.\u001b[0m\u001b[0mconcatenate\u001b[0m\u001b[1;33m(\u001b[0m\u001b[1;33m(\u001b[0m\u001b[0mtotallabel\u001b[0m\u001b[1;33m,\u001b[0m \u001b[0mcurr_label\u001b[0m\u001b[1;33m)\u001b[0m\u001b[1;33m,\u001b[0m \u001b[0maxis\u001b[0m\u001b[1;33m=\u001b[0m\u001b[1;36m0\u001b[0m\u001b[1;33m)\u001b[0m\u001b[1;33m\u001b[0m\u001b[0m\n\u001b[0;32m     29\u001b[0m     \u001b[0mprint\u001b[0m\u001b[1;33m(\u001b[0m\u001b[1;34m\"now: %s finished!!:\"\u001b[0m \u001b[1;33m%\u001b[0m \u001b[0mimgcnt\u001b[0m\u001b[1;33m,\u001b[0m \u001b[0mend\u001b[0m\u001b[1;33m=\u001b[0m\u001b[1;34m'\\r'\u001b[0m\u001b[1;33m)\u001b[0m\u001b[1;33m\u001b[0m\u001b[0m\n",
      "\u001b[1;31mKeyboardInterrupt\u001b[0m: "
     ]
    }
   ],
   "source": [
    "path = cwd + \"./0_img/chapter_image_naver/color/\"\n",
    "flist = os.listdir(path)\n",
    "convert_gray = 0\n",
    "imgsize = [64,64]\n",
    "n_class = len(dic)\n",
    "imgcnt = 0\n",
    "for f in flist:\n",
    "    fullpath = os.path.join(path,f)\n",
    "    currimg = imread(fullpath) # shape : (150,200,3)\n",
    "    if convert_gray:\n",
    "        img = rgb2gray(currimg)\n",
    "    else:\n",
    "        img = currimg\n",
    "    # Reshape = (64,64)\n",
    "    imgsmall = imresize(img, [imgsize[0], imgsize[1]]) / 255.\n",
    "#     print(\"Imgsmall shape: \",imgsmall.shape)\n",
    "    imgvec = np.reshape(imgsmall, (1,-1))\n",
    "#     print(\"imgvec shape: \", imgvec.shape)\n",
    "    # label\n",
    "    id_check = int(f.split(\"_\")[0])\n",
    "    label = dic[id_check]\n",
    "    curr_label = np.eye(n_class, n_class)[label:label+1, :]\n",
    "    if imgcnt == 0:\n",
    "        totalimg = imgvec\n",
    "        totallabel = curr_label\n",
    "    else:\n",
    "        totalimg = np.concatenate((totalimg, imgvec), axis=0)\n",
    "        totallabel = np.concatenate((totallabel, curr_label), axis=0)\n",
    "    print(\"now: %s finished!!:\" % imgcnt, end='\\r')\n",
    "    imgcnt += 1\n",
    "print (\"Total %d images loaded.\" % (imgcnt))"
   ]
  },
  {
   "cell_type": "markdown",
   "metadata": {},
   "source": [
    "**Image Handling시간이 너무 오래걸린다.**"
   ]
  },
  {
   "cell_type": "code",
   "execution_count": 36,
   "metadata": {},
   "outputs": [
    {
     "name": "stdout",
     "output_type": "stream",
     "text": [
      "Shape of 'trainimg' is (11106, 12288)\n",
      "Shape of 'trainlabel' is (11106, 745)\n",
      "Shape of 'testimg' is (7405, 12288)\n",
      "Shape of 'testlabel' is (7405, 745)\n"
     ]
    }
   ],
   "source": [
    "def print_shape(string, x):\n",
    "    print (\"Shape of '%s' is %s\" % (string, x.shape,))\n",
    "    \n",
    "randidx    = np.random.randint(imgcnt, size=imgcnt)\n",
    "trainidx   = randidx[0:int(3*imgcnt/5)]\n",
    "testidx    = randidx[int(3*imgcnt/5):imgcnt]\n",
    "trainimg   = totalimg[trainidx, :]\n",
    "trainlabel = totallabel[trainidx, :]\n",
    "testimg    = totalimg[testidx, :]\n",
    "testlabel  = totallabel[testidx, :]\n",
    "print_shape(\"trainimg\", trainimg)\n",
    "print_shape(\"trainlabel\", trainlabel)\n",
    "print_shape(\"testimg\", testimg)\n",
    "print_shape(\"testlabel\", testlabel)"
   ]
  }
 ],
 "metadata": {
  "kernelspec": {
   "display_name": "Python 3",
   "language": "python",
   "name": "python3"
  },
  "language_info": {
   "codemirror_mode": {
    "name": "ipython",
    "version": 3
   },
   "file_extension": ".py",
   "mimetype": "text/x-python",
   "name": "python",
   "nbconvert_exporter": "python",
   "pygments_lexer": "ipython3",
   "version": "3.6.6"
  }
 },
 "nbformat": 4,
 "nbformat_minor": 2
}
