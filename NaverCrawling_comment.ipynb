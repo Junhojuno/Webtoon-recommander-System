{
 "cells": [
  {
   "cell_type": "code",
   "execution_count": 3,
   "metadata": {},
   "outputs": [],
   "source": [
    "import requests\n",
    "import json\n",
    "from bs4 import BeautifulSoup\n",
    "import time"
   ]
  },
  {
   "cell_type": "code",
   "execution_count": 227,
   "metadata": {},
   "outputs": [],
   "source": [
    "url = \"https://apis.naver.com/commentBox/cbox/web_naver_list_jsonp.json?ticket=comic&templateId=webtoon&pool=cbox3&lang=ko&country=KR&objectId=641253_50&categoryId=&pageSize=1000&indexSize=10&page=1&sort=best\""
   ]
  },
  {
   "cell_type": "code",
   "execution_count": 228,
   "metadata": {},
   "outputs": [],
   "source": [
    "header = {\n",
    "    'Host' : \"apis.naver.com\",\n",
    "    'referer' : \"https://comic.naver.com/comment/comment.nhn?titleId=641253&no=50\",\n",
    "    'content-type' : \"application/json\"\n",
    "}\n",
    "response = requests.get(url, headers=header)\n",
    "dom = BeautifulSoup(response.content, 'html.parser')\n",
    "# json.loads(dom)\n",
    "one = dom.text.find('(') + 1\n",
    "two = dom.text.find(');')\n",
    "\n",
    "dom.text[one:two]\n",
    "\n",
    "content = json.loads(dom.text[one:two])\n",
    "# dom.text[one:two]\n",
    "# json.loads(dom.text[one:two])\n",
    "# content\n",
    "comments = content['result']['commentList']\n",
    "# comments"
   ]
  },
  {
   "cell_type": "code",
   "execution_count": 229,
   "metadata": {},
   "outputs": [
    {
     "data": {
      "text/plain": [
       "{'ticket': 'comic',\n",
       " 'objectId': '641253_50',\n",
       " 'categoryId': '*',\n",
       " 'templateId': 'webtoon',\n",
       " 'commentNo': 225493833,\n",
       " 'parentCommentNo': 225493833,\n",
       " 'replyLevel': 1,\n",
       " 'replyCount': 0,\n",
       " 'replyAllCount': 0,\n",
       " 'replyPreviewNo': None,\n",
       " 'replyList': None,\n",
       " 'imageCount': 0,\n",
       " 'imageList': None,\n",
       " 'imagePathList': None,\n",
       " 'imageWidthList': None,\n",
       " 'imageHeightList': None,\n",
       " 'commentType': 'txt',\n",
       " 'stickerId': None,\n",
       " 'sticker': None,\n",
       " 'sortValue': 1446128251769,\n",
       " 'contents': '아무도 50화를 축하해주지 않네요 100회까지.몸 조리 잘하시고 좋은 만화 많이 그려 쥬세요',\n",
       " 'userIdNo': None,\n",
       " 'exposedUserIp': None,\n",
       " 'lang': 'ko',\n",
       " 'country': 'KR',\n",
       " 'idType': 'naver',\n",
       " 'idProvider': 'naver',\n",
       " 'userName': '이승환',\n",
       " 'userProfileImage': '',\n",
       " 'profileType': 'naver',\n",
       " 'modTime': '2016-07-11T18:36:48+0900',\n",
       " 'modTimeGmt': '2016-07-11T09:36:48+0000',\n",
       " 'regTime': '2015-10-29T23:17:31+0900',\n",
       " 'regTimeGmt': '2015-10-29T14:17:31+0000',\n",
       " 'sympathyCount': 93932,\n",
       " 'antipathyCount': 1659,\n",
       " 'userBlind': False,\n",
       " 'hideReplyButton': False,\n",
       " 'status': 0,\n",
       " 'mine': False,\n",
       " 'best': True,\n",
       " 'mentions': None,\n",
       " 'toUser': None,\n",
       " 'userStatus': 0,\n",
       " 'categoryImage': None,\n",
       " 'open': False,\n",
       " 'levelCode': None,\n",
       " 'grades': None,\n",
       " 'sympathy': False,\n",
       " 'antipathy': False,\n",
       " 'snsList': None,\n",
       " 'metaInfo': None,\n",
       " 'extension': None,\n",
       " 'audioInfoList': None,\n",
       " 'translation': None,\n",
       " 'report': None,\n",
       " 'middleBlindReport': False,\n",
       " 'spamInfo': None,\n",
       " 'userHomepageUrl': None,\n",
       " 'defamation': False,\n",
       " 'blindReport': False,\n",
       " 'serviceId': None,\n",
       " 'maskedUserId': 'lsh3****',\n",
       " 'maskedUserName': '이승****',\n",
       " 'profileUserId': None,\n",
       " 'validateBanWords': False,\n",
       " 'manager': False,\n",
       " 'expose': True,\n",
       " 'deleted': False,\n",
       " 'visible': True,\n",
       " 'secret': False,\n",
       " 'blind': False,\n",
       " 'exposeByCountry': False,\n",
       " 'virtual': False,\n",
       " 'containText': True,\n",
       " 'anonymous': False}"
      ]
     },
     "execution_count": 229,
     "metadata": {},
     "output_type": "execute_result"
    }
   ],
   "source": [
    "comments[0]"
   ]
  },
  {
   "cell_type": "code",
   "execution_count": 129,
   "metadata": {},
   "outputs": [
    {
     "data": {
      "text/plain": [
       "{'page': 1,\n",
       " 'pageSize': 100,\n",
       " 'indexSize': 10,\n",
       " 'startRow': 1,\n",
       " 'endRow': 100,\n",
       " 'totalRows': 22728,\n",
       " 'startIndex': 0,\n",
       " 'totalPages': 228,\n",
       " 'firstPage': 1,\n",
       " 'prevPage': 0,\n",
       " 'nextPage': 2,\n",
       " 'lastPage': 10,\n",
       " 'current': None,\n",
       " 'moveToLastPage': False,\n",
       " 'moveToComment': False,\n",
       " 'moveToLastPrev': False}"
      ]
     },
     "execution_count": 129,
     "metadata": {},
     "output_type": "execute_result"
    }
   ],
   "source": [
    "content['result']['pageModel']"
   ]
  },
  {
   "cell_type": "code",
   "execution_count": 15,
   "metadata": {},
   "outputs": [],
   "source": [
    "url = \"https://apis.naver.com/commentBox/cbox/web_naver_list_jsonp.json?ticket=comic&templateId=webtoon&pool=cbox3&_callback=jQuery112406650273247043268_1535940803589&lang=ko&country=KR&objectId=651673_306&categoryId=&pageSize=22728&startRow=1&endRow=22728&groupId=&listType=OBJECT&pageType=default&page=1&initialize=true&userType=&useAltSort=true&replyPageSize=10&_=1535940803590\""
   ]
  },
  {
   "cell_type": "code",
   "execution_count": 16,
   "metadata": {
    "scrolled": true
   },
   "outputs": [
    {
     "data": {
      "text/plain": [
       "'qwerq'"
      ]
     },
     "execution_count": 16,
     "metadata": {},
     "output_type": "execute_result"
    }
   ],
   "source": [
    "header = {\n",
    "    'Host' : \"apis.naver.com\",\n",
    "    'Referer' : \"https://comic.naver.com/comment/comment.nhn?titleId=651673&no=306\",\n",
    "    'Content-Type' : \"application/javascript\"\n",
    "}\n",
    "response = requests.get(url, headers=header)\n",
    "dom = BeautifulSoup(response.content, 'html.parser')\n",
    "# json.loads(dom)\n",
    "one = dom.text.find('(') + 1\n",
    "two = dom.text.find(');')\n",
    "\n",
    "dom.text[one:two]\n",
    "\n",
    "content = json.loads(dom.text[one:two])\n",
    "# dom.text[one:two]\n",
    "# json.loads(dom.text[one:two])\n",
    "# content\n",
    "comments = content['result']['commentList']\n",
    "comments[0]['userName']\n",
    "# comments[0]['contents']\n",
    "# comments[0]['userIdNo']\n",
    "# comments[0]['modTime']\n",
    "# comments[0]['maskedUserId']\n",
    "# comments[0]['sympathyCount']\n",
    "# comments[0]['antipathyCount']"
   ]
  },
  {
   "cell_type": "code",
   "execution_count": 198,
   "metadata": {},
   "outputs": [
    {
     "data": {
      "text/plain": [
       "22728"
      ]
     },
     "execution_count": 198,
     "metadata": {},
     "output_type": "execute_result"
    }
   ],
   "source": [
    "content['result']['count']['comment']"
   ]
  },
  {
   "cell_type": "code",
   "execution_count": 143,
   "metadata": {},
   "outputs": [
    {
     "data": {
      "text/plain": [
       "100"
      ]
     },
     "execution_count": 143,
     "metadata": {},
     "output_type": "execute_result"
    }
   ],
   "source": [
    "len(comments)"
   ]
  },
  {
   "cell_type": "code",
   "execution_count": 74,
   "metadata": {},
   "outputs": [
    {
     "name": "stdout",
     "output_type": "stream",
     "text": [
      "https://apis.naver.com/commentBox/cbox/web_naver_list_jsonp.json?ticket=comic&templateId=webtoon&pool=cbox3&_callback=jQuery112405412239067839208_1535901080196&lang=ko&country=KR&objectId=570503_1&categoryId=&pageSize=15&indexSize=10&groupId=&listType=OBJECT&pageType=default&page=1&initialize=true&userType=&useAltSort=true&replyPageSize=10&_=1535901080197\n",
      "Server: nginx\n",
      "Date: Sun, 02 Sep 2018 15:15:13 GMT\n",
      "Content-Type: application/javascript; charset=UTF-8\n",
      "Content-Length: 187\n",
      "Connection: close\n",
      "Vary: Accept-Encoding\n",
      "Cache-Control: no-cache, no-store, proxy-revalidate, max-age=0\n",
      "Pragma: no-cache\n",
      "Expires: Thu, 01 Jan 1970 00:00:00 GMT\n",
      "\n",
      "\n"
     ]
    }
   ],
   "source": [
    "print(response.geturl()) # https://m.daum.net/?nil_top=mobile\n",
    "print(response.info()) # 응답해더 값"
   ]
  },
  {
   "cell_type": "markdown",
   "metadata": {},
   "source": [
    "### 댓글 크롤링\n",
    "- url 만들어주는 함수(titleid + '_' + no) \n",
    "- 전체 댓글갯수를 고려해서 for문을 돌려야 한다.\n",
    "- 댓글 따오는 형식 : 웹툰명, 회차, 닉네임, 괄호+아이디, 유저고유아이디(?) ,댓글내용, 추천수, 싫어요 수, 작성일자"
   ]
  },
  {
   "cell_type": "code",
   "execution_count": 5,
   "metadata": {},
   "outputs": [],
   "source": [
    "def make_url(titleid, no, page):\n",
    "    objectid = str(titleid) + \"_\" + str(no)\n",
    "    return \"https://apis.naver.com/commentBox/cbox/web_naver_list_jsonp.json?ticket=comic&templateId=webtoon&pool=cbox3&lang=ko&country=KR&objectId=\" + str(objectid) + \"&categoryId=&pageSize=1000&indexSize=10&page=\" + str(page) + \"&sort=NEW\""
   ]
  },
  {
   "cell_type": "code",
   "execution_count": 153,
   "metadata": {},
   "outputs": [
    {
     "data": {
      "text/plain": [
       "'https://apis.naver.com/commentBox/cbox/web_naver_list_jsonp.json?ticket=comic&templateId=webtoon&pool=cbox3&lang=ko&country=KR&objectId=641353_50&categoryId=&pageSize=1000&indexSize=10&page=1&sort=NEW'"
      ]
     },
     "execution_count": 153,
     "metadata": {},
     "output_type": "execute_result"
    }
   ],
   "source": [
    "make_url(641353,50,1)"
   ]
  },
  {
   "cell_type": "code",
   "execution_count": 6,
   "metadata": {},
   "outputs": [
    {
     "data": {
      "text/html": [
       "<div>\n",
       "<style scoped>\n",
       "    .dataframe tbody tr th:only-of-type {\n",
       "        vertical-align: middle;\n",
       "    }\n",
       "\n",
       "    .dataframe tbody tr th {\n",
       "        vertical-align: top;\n",
       "    }\n",
       "\n",
       "    .dataframe thead th {\n",
       "        text-align: right;\n",
       "    }\n",
       "</style>\n",
       "<table border=\"1\" class=\"dataframe\">\n",
       "  <thead>\n",
       "    <tr style=\"text-align: right;\">\n",
       "      <th></th>\n",
       "      <th>title</th>\n",
       "      <th>image_link</th>\n",
       "      <th>episode</th>\n",
       "      <th>titleid</th>\n",
       "      <th>episode_cnt</th>\n",
       "    </tr>\n",
       "  </thead>\n",
       "  <tbody>\n",
       "    <tr>\n",
       "      <th>54691</th>\n",
       "      <td>슈퍼트리오 시즌2</td>\n",
       "      <td>https://shared-comic.pstatic.net/thumb/webtoon...</td>\n",
       "      <td>Part 9. 의천검 탈취작전 1</td>\n",
       "      <td>347685</td>\n",
       "      <td>6</td>\n",
       "    </tr>\n",
       "    <tr>\n",
       "      <th>54692</th>\n",
       "      <td>슈퍼트리오 시즌2</td>\n",
       "      <td>https://shared-comic.pstatic.net/thumb/webtoon...</td>\n",
       "      <td>Part 8. 쌍감자 체포 프로젝트 2</td>\n",
       "      <td>347685</td>\n",
       "      <td>5</td>\n",
       "    </tr>\n",
       "    <tr>\n",
       "      <th>54693</th>\n",
       "      <td>슈퍼트리오 시즌2</td>\n",
       "      <td>https://shared-comic.pstatic.net/thumb/webtoon...</td>\n",
       "      <td>Part 8. 쌍감자 체포 프로젝트 1</td>\n",
       "      <td>347685</td>\n",
       "      <td>4</td>\n",
       "    </tr>\n",
       "    <tr>\n",
       "      <th>54694</th>\n",
       "      <td>슈퍼트리오 시즌2</td>\n",
       "      <td>https://shared-comic.pstatic.net/thumb/webtoon...</td>\n",
       "      <td>Part 7. 일천불의 화가 2</td>\n",
       "      <td>347685</td>\n",
       "      <td>3</td>\n",
       "    </tr>\n",
       "    <tr>\n",
       "      <th>54695</th>\n",
       "      <td>슈퍼트리오 시즌2</td>\n",
       "      <td>https://shared-comic.pstatic.net/thumb/webtoon...</td>\n",
       "      <td>Part 7. 일천불의 화가 1</td>\n",
       "      <td>347685</td>\n",
       "      <td>2</td>\n",
       "    </tr>\n",
       "  </tbody>\n",
       "</table>\n",
       "</div>"
      ],
      "text/plain": [
       "           title                                         image_link  \\\n",
       "54691  슈퍼트리오 시즌2  https://shared-comic.pstatic.net/thumb/webtoon...   \n",
       "54692  슈퍼트리오 시즌2  https://shared-comic.pstatic.net/thumb/webtoon...   \n",
       "54693  슈퍼트리오 시즌2  https://shared-comic.pstatic.net/thumb/webtoon...   \n",
       "54694  슈퍼트리오 시즌2  https://shared-comic.pstatic.net/thumb/webtoon...   \n",
       "54695  슈퍼트리오 시즌2  https://shared-comic.pstatic.net/thumb/webtoon...   \n",
       "\n",
       "                     episode  titleid  episode_cnt  \n",
       "54691     Part 9. 의천검 탈취작전 1   347685            6  \n",
       "54692  Part 8. 쌍감자 체포 프로젝트 2   347685            5  \n",
       "54693  Part 8. 쌍감자 체포 프로젝트 1   347685            4  \n",
       "54694      Part 7. 일천불의 화가 2   347685            3  \n",
       "54695      Part 7. 일천불의 화가 1   347685            2  "
      ]
     },
     "execution_count": 6,
     "metadata": {},
     "output_type": "execute_result"
    }
   ],
   "source": [
    "df = pd.read_csv('data_Juno/episode_per_webtoon_naver.csv')\n",
    "df.tail()"
   ]
  },
  {
   "cell_type": "code",
   "execution_count": 7,
   "metadata": {},
   "outputs": [],
   "source": [
    "def cal_page(titleid,no,page=1):\n",
    "    url = make_url(titleid, no, page)\n",
    "    header = {\n",
    "    'Host' : \"apis.naver.com\",\n",
    "    'Referer' : \"https://comic.naver.com/comment/comment.nhn?titleId=\" + str(titleid) + \"&no=\" + str(no),\n",
    "    'Content-Type' : \"application/javascript\"\n",
    "    }\n",
    "    response = requests.get(url, headers=header)\n",
    "    dom = BeautifulSoup(response.content, 'html.parser')\n",
    "    \n",
    "    one = dom.text.find('(') + 1\n",
    "    two = dom.text.find(');')\n",
    "\n",
    "    content = json.loads(dom.text[one:two])\n",
    "    comments = content['result']['count']['comment']\n",
    "    return int(comments)"
   ]
  },
  {
   "cell_type": "code",
   "execution_count": null,
   "metadata": {},
   "outputs": [
    {
     "name": "stdout",
     "output_type": "stream",
     "text": [
      "titleid :  651673 no :  336 count :  1\n",
      "titleid :  651673 no :  335 count :  2\n",
      "titleid :  651673 no :  334 count :  3\n",
      "titleid :  651673 no :  333 count :  4\n"
     ]
    }
   ],
   "source": [
    "dic = {}\n",
    "dic['title'] = []\n",
    "dic['episode'] = []\n",
    "dic['nickname'] = []\n",
    "dic['bracket_id'] = []\n",
    "dic['comment'] = []\n",
    "dic['like_cnt'] = []\n",
    "dic['dislike_cnt'] = []\n",
    "dic['date'] = []\n",
    "dic['user_id'] = []\n",
    "count = 1\n",
    "for titleid, no in df[['titleid','episode_cnt']].values:\n",
    "    total_page = cal_page(titleid, no)\n",
    "    total_page = (total_page // 100) + 1 if total_page % 100 != 0 else (total_page // 100) \n",
    "    print('titleid : ',titleid, \"no : \", no , 'count : ',count)\n",
    "    try:\n",
    "        for page in range(1,total_page + 1):\n",
    "            url = make_url(titleid, no, page)\n",
    "\n",
    "            header = {\n",
    "            'Host' : \"apis.naver.com\",\n",
    "            'Referer' : \"https://comic.naver.com/comment/comment.nhn?titleId=\" + str(titleid) + \"&no=\" + str(no),\n",
    "            'Content-Type' : \"application/javascript\"\n",
    "            }\n",
    "            response = requests.get(url, headers=header)\n",
    "            dom = BeautifulSoup(response.content, 'html.parser')\n",
    "\n",
    "            one = dom.text.find('(') + 1\n",
    "            two = dom.text.find(');')\n",
    "\n",
    "            content = json.loads(dom.text[one:two])\n",
    "            comments = content['result']['commentList']\n",
    "\n",
    "            # comments[0]['userName']\n",
    "            # comments[0]['contents']\n",
    "            # comments[0]['userIdNo']\n",
    "            # comments[0]['modTime']\n",
    "            # comments[0]['maskedUserId']\n",
    "            # comments[0]['sympathyCount']\n",
    "            # comments[0]['antipathyCount']  \n",
    "            for i in range(100):\n",
    "                try:\n",
    "                    dic['title'].append(df[df.titleid == titleid].title.values[0])\n",
    "                    dic['episode'].append(no)\n",
    "                    dic['nickname'].append(comments[i]['userName'])\n",
    "                    dic['bracket_id'].append(comments[i]['maskedUserId'])\n",
    "                    dic['comment'].append(comments[i]['contents'])\n",
    "                    dic['like_cnt'].append(comments[i]['sympathyCount'])\n",
    "                    dic['dislike_cnt'].append(comments[i]['antipathyCount'])\n",
    "                    dic['date'].append(comments[i]['modTime'])\n",
    "                    dic['user_id'].append(comments[i]['userIdNo'])\n",
    "                except:\n",
    "                    break\n",
    "        count += 1\n",
    "        time.sleep(5)\n",
    "    except:\n",
    "        check = []\n",
    "        check.append({'titleid':titleid, 'page':page})"
   ]
  },
  {
   "cell_type": "code",
   "execution_count": 9,
   "metadata": {},
   "outputs": [
    {
     "name": "stdout",
     "output_type": "stream",
     "text": [
      "key :  title length :  294415\n",
      "key :  episode length :  294415\n",
      "key :  nickname length :  294387\n",
      "key :  bracket_id length :  294387\n",
      "key :  comment length :  294387\n",
      "key :  like_cnt length :  294387\n",
      "key :  dislike_cnt length :  294387\n",
      "key :  date length :  294387\n",
      "key :  user_id length :  294387\n"
     ]
    }
   ],
   "source": [
    "for k in dic.keys():\n",
    "    print(\"key : \", k, \"length : \", len(dic[k]))"
   ]
  },
  {
   "cell_type": "code",
   "execution_count": 17,
   "metadata": {},
   "outputs": [
    {
     "data": {
      "text/plain": [
       "[(1, 2), (3, 4)]"
      ]
     },
     "execution_count": 17,
     "metadata": {},
     "output_type": "execute_result"
    }
   ],
   "source": [
    "ls = []\n",
    "ls.append((1,2))\n",
    "ls.append((3,4))\n",
    "ls"
   ]
  }
 ],
 "metadata": {
  "kernelspec": {
   "display_name": "Python 3",
   "language": "python",
   "name": "python3"
  },
  "language_info": {
   "codemirror_mode": {
    "name": "ipython",
    "version": 3
   },
   "file_extension": ".py",
   "mimetype": "text/x-python",
   "name": "python",
   "nbconvert_exporter": "python",
   "pygments_lexer": "ipython3",
   "version": "3.6.6"
  }
 },
 "nbformat": 4,
 "nbformat_minor": 2
}
