{
 "cells": [
  {
   "cell_type": "code",
   "execution_count": 1,
   "metadata": {},
   "outputs": [],
   "source": [
    "import requests\n",
    "from bs4 import BeautifulSoup"
   ]
  },
  {
   "cell_type": "markdown",
   "metadata": {},
   "source": [
    "#### 함수화 - 데이터 크롤링"
   ]
  },
  {
   "cell_type": "code",
   "execution_count": 2,
   "metadata": {},
   "outputs": [],
   "source": [
    "def naver_webtoon(genre):\n",
    "    \n",
    "    dic = {}\n",
    "    dic['unique_id'] = []\n",
    "    dic['title'] = []\n",
    "    dic['author'] = []\n",
    "    dic['total_score'] = []\n",
    "    dic['main_link'] = []\n",
    "    dic['image_link'] = []\n",
    "    dic['update_date'] = []\n",
    "    \n",
    "    # first url for title\n",
    "    # get title with full name\n",
    "    url = \"https://comic.naver.com/webtoon/genre.nhn?view=list&order=ViewCount&genre=\" + genre\n",
    "    response = requests.get(url)\n",
    "    dom = BeautifulSoup(response.content, \"html.parser\")\n",
    "    keywords = dom.select(\"#content > div.list_area.table_list_area > table > tbody > tr\")\n",
    "    for keyword in keywords:\n",
    "        dic['title'].append(keyword.select_one(\"td > a > strong\").text)\n",
    "    \n",
    "    \n",
    "    # second url for the others\n",
    "    url =  \"https://comic.naver.com/webtoon/genre.nhn?genre=\" + genre\n",
    "    response = requests.get(url)\n",
    "    dom = BeautifulSoup(response.content, \"html.parser\")\n",
    "    keywords = dom.select(\".list_area > .img_list > li\")\n",
    "\n",
    "\n",
    "    # author, total score\n",
    "    for keyword in keywords:\n",
    "        dic['author'].append(keyword.select_one(\"dl > dd > a\").text)\n",
    "        dic['total_score'].append(keyword.select_one(\"dl > dd > .rating_type > strong\").text)\n",
    "        dic['update_date'].append(keyword.select_one(\"dl > dd.date2\").text)\n",
    "\n",
    "    # unique id \n",
    "    unique_id_list = dom.select(\"dl > dt > a\")\n",
    "    for i in range(len(unique_id_list)):\n",
    "        idx = unique_id_list[i].get('href').index(\"=\")\n",
    "        dic['unique_id'].append(unique_id_list[i].get('href')[idx+1:])\n",
    "\n",
    "    # main link\n",
    "    main_link_list = dom.select(\"dl > dt > a\")\n",
    "    for i in range(len(main_link_list)):\n",
    "        dic['main_link'].append(\"https://comic.naver.com\" + main_link_list[i].get('href'))\n",
    "\n",
    "    # image link\n",
    "    image_link_list = dom.select(\".list_area > .img_list > li > .thumb > a > img:nth-of-type(1)\")\n",
    "    for i in range(len(image_link_list)):\n",
    "        dic['image_link'].append(image_link_list[i].get('src'))\n",
    "        \n",
    "    df = pd.DataFrame(dic)\n",
    "    df[genre] = genre\n",
    "    \n",
    "    return df"
   ]
  },
  {
   "cell_type": "markdown",
   "metadata": {},
   "source": [
    "#### 함수화 - 장르통합 \"/\""
   ]
  },
  {
   "cell_type": "code",
   "execution_count": 24,
   "metadata": {},
   "outputs": [],
   "source": [
    "def make_genre(df):\n",
    "    genres = [\"episode\",\"omnibus\",\"story\",\"daily\",\"comic\",\"fantasy\",\"action\",\"drama\",\"pure\",\"sensibility\",\"thrill\",\"historical\",\"sports\"]\n",
    "    df.fillna(\"\", inplace=True)\n",
    "\n",
    "    result = []\n",
    "    for i in range(len(df[genres])):\n",
    "        ls = list(filter(lambda value: value != \"\", df[genres].loc[i].values))\n",
    "        result.append(ls)\n",
    "\n",
    "    df['genre'] = np.array([\"/\".join(ls) for ls in result])\n",
    "    df.drop(columns=genres, axis=1, inplace=True)\n",
    "    return df"
   ]
  }
 ],
 "metadata": {
  "kernelspec": {
   "display_name": "Python 3",
   "language": "python",
   "name": "python3"
  },
  "language_info": {
   "codemirror_mode": {
    "name": "ipython",
    "version": 3
   },
   "file_extension": ".py",
   "mimetype": "text/x-python",
   "name": "python",
   "nbconvert_exporter": "python",
   "pygments_lexer": "ipython3",
   "version": "3.6.6"
  }
 },
 "nbformat": 4,
 "nbformat_minor": 2
}
