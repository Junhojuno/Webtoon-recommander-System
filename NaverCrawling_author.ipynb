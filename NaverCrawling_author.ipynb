{
 "cells": [
  {
   "cell_type": "code",
   "execution_count": 1,
   "metadata": {},
   "outputs": [
    {
     "data": {
      "text/html": [
       "<div>\n",
       "<style scoped>\n",
       "    .dataframe tbody tr th:only-of-type {\n",
       "        vertical-align: middle;\n",
       "    }\n",
       "\n",
       "    .dataframe tbody tr th {\n",
       "        vertical-align: top;\n",
       "    }\n",
       "\n",
       "    .dataframe thead th {\n",
       "        text-align: right;\n",
       "    }\n",
       "</style>\n",
       "<table border=\"1\" class=\"dataframe\">\n",
       "  <thead>\n",
       "    <tr style=\"text-align: right;\">\n",
       "      <th></th>\n",
       "      <th>unique_id</th>\n",
       "      <th>title</th>\n",
       "      <th>author</th>\n",
       "      <th>total_score</th>\n",
       "      <th>main_link</th>\n",
       "      <th>image_link</th>\n",
       "      <th>update_date</th>\n",
       "      <th>genre</th>\n",
       "    </tr>\n",
       "  </thead>\n",
       "  <tbody>\n",
       "    <tr>\n",
       "      <th>740</th>\n",
       "      <td>622643</td>\n",
       "      <td>진눈깨비 소년</td>\n",
       "      <td>쥬드프라이데이</td>\n",
       "      <td>9.97</td>\n",
       "      <td>https://comic.naver.com/webtoon/list.nhn?title...</td>\n",
       "      <td>https://shared-comic.pstatic.net/thumb/webtoon...</td>\n",
       "      <td>2018.08.30</td>\n",
       "      <td>story/pure/sensibility</td>\n",
       "    </tr>\n",
       "    <tr>\n",
       "      <th>741</th>\n",
       "      <td>703840</td>\n",
       "      <td>한국만화 1990</td>\n",
       "      <td>웹툰작가</td>\n",
       "      <td>9.75</td>\n",
       "      <td>https://comic.naver.com/webtoon/list.nhn?title...</td>\n",
       "      <td>https://shared-comic.pstatic.net/thumb/webtoon...</td>\n",
       "      <td>2018.05.17</td>\n",
       "      <td>story</td>\n",
       "    </tr>\n",
       "    <tr>\n",
       "      <th>742</th>\n",
       "      <td>336945</td>\n",
       "      <td>길에서 만나다</td>\n",
       "      <td>쥬드프라이데이</td>\n",
       "      <td>9.75</td>\n",
       "      <td>https://comic.naver.com/webtoon/list.nhn?title...</td>\n",
       "      <td>https://shared-comic.pstatic.net/thumb/webtoon...</td>\n",
       "      <td>2013.01.17</td>\n",
       "      <td>story/drama/sensibility</td>\n",
       "    </tr>\n",
       "    <tr>\n",
       "      <th>743</th>\n",
       "      <td>515883</td>\n",
       "      <td>사또(Satto)</td>\n",
       "      <td>최윤진</td>\n",
       "      <td>9.80</td>\n",
       "      <td>https://comic.naver.com/webtoon/list.nhn?title...</td>\n",
       "      <td>https://shared-comic.pstatic.net/thumb/webtoon...</td>\n",
       "      <td>2015.12.29</td>\n",
       "      <td>story/fantasy/drama</td>\n",
       "    </tr>\n",
       "    <tr>\n",
       "      <th>744</th>\n",
       "      <td>347685</td>\n",
       "      <td>슈퍼트리오 시즌2</td>\n",
       "      <td>황미나</td>\n",
       "      <td>7.36</td>\n",
       "      <td>https://comic.naver.com/webtoon/list.nhn?title...</td>\n",
       "      <td>https://shared-comic.pstatic.net/thumb/webtoon...</td>\n",
       "      <td>2012.06.04</td>\n",
       "      <td>story/comic/drama</td>\n",
       "    </tr>\n",
       "  </tbody>\n",
       "</table>\n",
       "</div>"
      ],
      "text/plain": [
       "     unique_id      title   author  total_score  \\\n",
       "740     622643    진눈깨비 소년  쥬드프라이데이         9.97   \n",
       "741     703840  한국만화 1990     웹툰작가         9.75   \n",
       "742     336945    길에서 만나다  쥬드프라이데이         9.75   \n",
       "743     515883  사또(Satto)      최윤진         9.80   \n",
       "744     347685  슈퍼트리오 시즌2      황미나         7.36   \n",
       "\n",
       "                                             main_link  \\\n",
       "740  https://comic.naver.com/webtoon/list.nhn?title...   \n",
       "741  https://comic.naver.com/webtoon/list.nhn?title...   \n",
       "742  https://comic.naver.com/webtoon/list.nhn?title...   \n",
       "743  https://comic.naver.com/webtoon/list.nhn?title...   \n",
       "744  https://comic.naver.com/webtoon/list.nhn?title...   \n",
       "\n",
       "                                            image_link update_date  \\\n",
       "740  https://shared-comic.pstatic.net/thumb/webtoon...  2018.08.30   \n",
       "741  https://shared-comic.pstatic.net/thumb/webtoon...  2018.05.17   \n",
       "742  https://shared-comic.pstatic.net/thumb/webtoon...  2013.01.17   \n",
       "743  https://shared-comic.pstatic.net/thumb/webtoon...  2015.12.29   \n",
       "744  https://shared-comic.pstatic.net/thumb/webtoon...  2012.06.04   \n",
       "\n",
       "                       genre  \n",
       "740   story/pure/sensibility  \n",
       "741                    story  \n",
       "742  story/drama/sensibility  \n",
       "743      story/fantasy/drama  \n",
       "744        story/comic/drama  "
      ]
     },
     "execution_count": 1,
     "metadata": {},
     "output_type": "execute_result"
    }
   ],
   "source": [
    "df = pd.read_csv(\"data_Juno/webtoon_naver_info_by_genres.csv\")\n",
    "df.tail()"
   ]
  },
  {
   "cell_type": "code",
   "execution_count": 2,
   "metadata": {},
   "outputs": [
    {
     "name": "stderr",
     "output_type": "stream",
     "text": [
      "C:\\ProgramData\\Anaconda3\\lib\\site-packages\\ipykernel_launcher.py:2: SettingWithCopyWarning: \n",
      "A value is trying to be set on a copy of a slice from a DataFrame\n",
      "\n",
      "See the caveats in the documentation: http://pandas.pydata.org/pandas-docs/stable/indexing.html#indexing-view-versus-copy\n",
      "  \n"
     ]
    },
    {
     "data": {
      "text/html": [
       "<div>\n",
       "<style scoped>\n",
       "    .dataframe tbody tr th:only-of-type {\n",
       "        vertical-align: middle;\n",
       "    }\n",
       "\n",
       "    .dataframe tbody tr th {\n",
       "        vertical-align: top;\n",
       "    }\n",
       "\n",
       "    .dataframe thead th {\n",
       "        text-align: right;\n",
       "    }\n",
       "</style>\n",
       "<table border=\"1\" class=\"dataframe\">\n",
       "  <thead>\n",
       "    <tr style=\"text-align: right;\">\n",
       "      <th></th>\n",
       "      <th>author</th>\n",
       "    </tr>\n",
       "  </thead>\n",
       "  <tbody>\n",
       "    <tr>\n",
       "      <th>472</th>\n",
       "      <td>고일권</td>\n",
       "    </tr>\n",
       "    <tr>\n",
       "      <th>473</th>\n",
       "      <td>슈안</td>\n",
       "    </tr>\n",
       "    <tr>\n",
       "      <th>474</th>\n",
       "      <td>장현필/탁영호</td>\n",
       "    </tr>\n",
       "    <tr>\n",
       "      <th>475</th>\n",
       "      <td>박설화</td>\n",
       "    </tr>\n",
       "    <tr>\n",
       "      <th>476</th>\n",
       "      <td>쥬드프라이데이</td>\n",
       "    </tr>\n",
       "  </tbody>\n",
       "</table>\n",
       "</div>"
      ],
      "text/plain": [
       "      author\n",
       "472      고일권\n",
       "473       슈안\n",
       "474  장현필/탁영호\n",
       "475      박설화\n",
       "476  쥬드프라이데이"
      ]
     },
     "execution_count": 2,
     "metadata": {},
     "output_type": "execute_result"
    }
   ],
   "source": [
    "author = df[['author']]\n",
    "author.drop_duplicates(inplace=True)\n",
    "author.reset_index(drop=True, inplace=True)\n",
    "author.tail()"
   ]
  },
  {
   "cell_type": "code",
   "execution_count": 3,
   "metadata": {},
   "outputs": [
    {
     "name": "stderr",
     "output_type": "stream",
     "text": [
      "C:\\ProgramData\\Anaconda3\\lib\\site-packages\\ipykernel_launcher.py:1: SettingWithCopyWarning: \n",
      "A value is trying to be set on a copy of a slice from a DataFrame.\n",
      "Try using .loc[row_indexer,col_indexer] = value instead\n",
      "\n",
      "See the caveats in the documentation: http://pandas.pydata.org/pandas-docs/stable/indexing.html#indexing-view-versus-copy\n",
      "  \"\"\"Entry point for launching an IPython kernel.\n"
     ]
    },
    {
     "data": {
      "text/html": [
       "<div>\n",
       "<style scoped>\n",
       "    .dataframe tbody tr th:only-of-type {\n",
       "        vertical-align: middle;\n",
       "    }\n",
       "\n",
       "    .dataframe tbody tr th {\n",
       "        vertical-align: top;\n",
       "    }\n",
       "\n",
       "    .dataframe thead th {\n",
       "        text-align: right;\n",
       "    }\n",
       "</style>\n",
       "<table border=\"1\" class=\"dataframe\">\n",
       "  <thead>\n",
       "    <tr style=\"text-align: right;\">\n",
       "      <th></th>\n",
       "      <th>author</th>\n",
       "      <th>find_dot</th>\n",
       "    </tr>\n",
       "  </thead>\n",
       "  <tbody>\n",
       "    <tr>\n",
       "      <th>76</th>\n",
       "      <td>Dylan/DanBra...</td>\n",
       "      <td>1</td>\n",
       "    </tr>\n",
       "    <tr>\n",
       "      <th>416</th>\n",
       "      <td>이하림,김병관/김병관,...</td>\n",
       "      <td>1</td>\n",
       "    </tr>\n",
       "  </tbody>\n",
       "</table>\n",
       "</div>"
      ],
      "text/plain": [
       "              author  find_dot\n",
       "76   Dylan/DanBra...         1\n",
       "416  이하림,김병관/김병관,...         1"
      ]
     },
     "execution_count": 3,
     "metadata": {},
     "output_type": "execute_result"
    }
   ],
   "source": [
    "author['find_dot'] = author['author'].map(lambda x : 1 if '..' in x else 0)\n",
    "author[author['find_dot'] == 1]"
   ]
  },
  {
   "cell_type": "code",
   "execution_count": 4,
   "metadata": {},
   "outputs": [],
   "source": [
    "author[['author']].to_csv('data_Juno/webtoon_naver_info_author.csv',index=False)"
   ]
  },
  {
   "cell_type": "code",
   "execution_count": null,
   "metadata": {},
   "outputs": [],
   "source": []
  }
 ],
 "metadata": {
  "kernelspec": {
   "display_name": "Python 3",
   "language": "python",
   "name": "python3"
  },
  "language_info": {
   "codemirror_mode": {
    "name": "ipython",
    "version": 3
   },
   "file_extension": ".py",
   "mimetype": "text/x-python",
   "name": "python",
   "nbconvert_exporter": "python",
   "pygments_lexer": "ipython3",
   "version": "3.6.6"
  }
 },
 "nbformat": 4,
 "nbformat_minor": 2
}
