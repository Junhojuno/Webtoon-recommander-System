{
 "cells": [
  {
   "cell_type": "markdown",
   "metadata": {},
   "source": [
    "### Naver\n",
    "- html parsing으로 진행"
   ]
  },
  {
   "cell_type": "code",
   "execution_count": 1,
   "metadata": {},
   "outputs": [],
   "source": [
    "import requests\n",
    "from bs4 import BeautifulSoup"
   ]
  },
  {
   "cell_type": "code",
   "execution_count": 8,
   "metadata": {},
   "outputs": [],
   "source": [
    "response = requests.get(\"https://comic.naver.com/webtoon/genre.nhn?genre=story\")\n",
    "dom = BeautifulSoup(response.content, \"html.parser\") # utf8 확인, 그래서 encoding은 넘어감"
   ]
  },
  {
   "cell_type": "code",
   "execution_count": 9,
   "metadata": {},
   "outputs": [],
   "source": [
    "keywords = dom.select(\".list_area > .img_list > li\")"
   ]
  },
  {
   "cell_type": "code",
   "execution_count": 10,
   "metadata": {},
   "outputs": [],
   "source": [
    "df = pd.DataFrame(columns=['unique_id','title','author','total_score','main_link','image_link','update_date'])"
   ]
  },
  {
   "cell_type": "code",
   "execution_count": 11,
   "metadata": {},
   "outputs": [
    {
     "data": {
      "text/plain": [
       "'641253'"
      ]
     },
     "execution_count": 11,
     "metadata": {},
     "output_type": "execute_result"
    }
   ],
   "source": [
    "dom.select(\"dl > dt > a\")[0].get('href')[-6:] # unique id"
   ]
  },
  {
   "cell_type": "code",
   "execution_count": 12,
   "metadata": {},
   "outputs": [
    {
     "data": {
      "text/plain": [
       "'외모지상주의'"
      ]
     },
     "execution_count": 12,
     "metadata": {},
     "output_type": "execute_result"
    }
   ],
   "source": [
    "keywords[0].select_one(\"dl > dt > a\").text # title"
   ]
  },
  {
   "cell_type": "code",
   "execution_count": 13,
   "metadata": {},
   "outputs": [
    {
     "data": {
      "text/plain": [
       "'박태준'"
      ]
     },
     "execution_count": 13,
     "metadata": {},
     "output_type": "execute_result"
    }
   ],
   "source": [
    "keywords[0].select_one(\"dl > dd > a\").text # author"
   ]
  },
  {
   "cell_type": "code",
   "execution_count": 14,
   "metadata": {},
   "outputs": [
    {
     "data": {
      "text/plain": [
       "'9.54'"
      ]
     },
     "execution_count": 14,
     "metadata": {},
     "output_type": "execute_result"
    }
   ],
   "source": [
    "keywords[0].select_one(\"dl > dd > .rating_type > strong\").text # total score"
   ]
  },
  {
   "cell_type": "code",
   "execution_count": 15,
   "metadata": {},
   "outputs": [
    {
     "data": {
      "text/plain": [
       "'https://comic.naver.com/webtoon/list.nhn?titleId=641253'"
      ]
     },
     "execution_count": 15,
     "metadata": {},
     "output_type": "execute_result"
    }
   ],
   "source": [
    "\"https://comic.naver.com\" + dom.select(\"dl > dt > a\")[0].get('href') # main link"
   ]
  },
  {
   "cell_type": "code",
   "execution_count": 131,
   "metadata": {},
   "outputs": [
    {
     "data": {
      "text/plain": [
       "'https://shared-comic.pstatic.net/thumb/webtoon/641253/thumbnail/title_thumbnail_20141120112141_t83x90.jpg'"
      ]
     },
     "execution_count": 131,
     "metadata": {},
     "output_type": "execute_result"
    }
   ],
   "source": [
    "dom.select(\".list_area > .img_list > li > .thumb > a > img\")[0].get('src') # image link"
   ]
  },
  {
   "cell_type": "code",
   "execution_count": 132,
   "metadata": {},
   "outputs": [
    {
     "data": {
      "text/plain": [
       "'2018.08.23'"
      ]
     },
     "execution_count": 132,
     "metadata": {},
     "output_type": "execute_result"
    }
   ],
   "source": [
    "keywords[0].select_one(\"dl > dd.date2\").text # update date"
   ]
  },
  {
   "cell_type": "markdown",
   "metadata": {},
   "source": [
    "##### 각 column들의 값을 가져오는 경로가 다르므로, 일단 나눠서 진행."
   ]
  },
  {
   "cell_type": "code",
   "execution_count": 133,
   "metadata": {},
   "outputs": [],
   "source": [
    "dic = {}\n",
    "dic['unique_id'] = []\n",
    "dic['title'] = []\n",
    "dic['author'] = []\n",
    "dic['total_score'] = []\n",
    "dic['main_link'] = []\n",
    "dic['image_link'] = []\n",
    "dic['update_date'] = []"
   ]
  },
  {
   "cell_type": "code",
   "execution_count": 134,
   "metadata": {},
   "outputs": [],
   "source": [
    "# title, author, total score\n",
    "for keyword in keywords:\n",
    "    dic['title'].append(keyword.select_one(\"dl > dt > a\").text)\n",
    "    dic['author'].append(keyword.select_one(\"dl > dd > a\").text)\n",
    "    dic['total_score'].append(keyword.select_one(\"dl > dd > .rating_type > strong\").text)\n",
    "    dic['update_date'].append(keyword.select_one(\"dl > dd.date2\").text)"
   ]
  },
  {
   "cell_type": "code",
   "execution_count": 135,
   "metadata": {},
   "outputs": [],
   "source": [
    "# unique id \n",
    "unique_id_list = dom.select(\"dl > dt > a\")\n",
    "for i in range(len(unique_id_list)):\n",
    "    idx = unique_id_list[i].get('href').index(\"=\")\n",
    "    dic['unique_id'].append(unique_id_list[i].get('href')[idx+1:])"
   ]
  },
  {
   "cell_type": "code",
   "execution_count": 136,
   "metadata": {},
   "outputs": [],
   "source": [
    "# main link\n",
    "main_link_list = dom.select(\"dl > dt > a\")\n",
    "for i in range(len(main_link_list)):\n",
    "    dic['main_link'].append(\"https://comic.naver.com\" + main_link_list[i].get('href'))"
   ]
  },
  {
   "cell_type": "code",
   "execution_count": 137,
   "metadata": {},
   "outputs": [],
   "source": [
    "# image link\n",
    "image_link_list = dom.select(\".list_area > .img_list > li > .thumb > a > img:nth-of-type(1)\")\n",
    "for i in range(len(image_link_list)):\n",
    "    dic['image_link'].append(image_link_list[i].get('src'))"
   ]
  },
  {
   "cell_type": "code",
   "execution_count": 138,
   "metadata": {},
   "outputs": [
    {
     "name": "stdout",
     "output_type": "stream",
     "text": [
      "total_score 552\n",
      "update_date 552\n",
      "author 552\n",
      "image_link 552\n",
      "unique_id 552\n",
      "title 552\n",
      "main_link 552\n"
     ]
    }
   ],
   "source": [
    "for i in set(dic.keys()):\n",
    "    print(i ,len(dic[i]))"
   ]
  },
  {
   "cell_type": "code",
   "execution_count": 112,
   "metadata": {},
   "outputs": [
    {
     "data": {
      "text/plain": [
       "'https://shared-comic.pstatic.net/thumb/webtoon/22052/thumbnail/thumbnail_title_22052_83x90.gif'"
      ]
     },
     "execution_count": 112,
     "metadata": {},
     "output_type": "execute_result"
    }
   ],
   "source": [
    "dic['image_link'][1]"
   ]
  },
  {
   "cell_type": "code",
   "execution_count": 139,
   "metadata": {},
   "outputs": [],
   "source": [
    "df = pd.DataFrame(dic)"
   ]
  },
  {
   "cell_type": "code",
   "execution_count": 140,
   "metadata": {},
   "outputs": [
    {
     "data": {
      "text/html": [
       "<div>\n",
       "<style scoped>\n",
       "    .dataframe tbody tr th:only-of-type {\n",
       "        vertical-align: middle;\n",
       "    }\n",
       "\n",
       "    .dataframe tbody tr th {\n",
       "        vertical-align: top;\n",
       "    }\n",
       "\n",
       "    .dataframe thead th {\n",
       "        text-align: right;\n",
       "    }\n",
       "</style>\n",
       "<table border=\"1\" class=\"dataframe\">\n",
       "  <thead>\n",
       "    <tr style=\"text-align: right;\">\n",
       "      <th></th>\n",
       "      <th>unique_id</th>\n",
       "      <th>title</th>\n",
       "      <th>author</th>\n",
       "      <th>total_score</th>\n",
       "      <th>main_link</th>\n",
       "      <th>image_link</th>\n",
       "      <th>update_date</th>\n",
       "    </tr>\n",
       "  </thead>\n",
       "  <tbody>\n",
       "    <tr>\n",
       "      <th>547</th>\n",
       "      <td>622643</td>\n",
       "      <td>진눈깨비 소년</td>\n",
       "      <td>쥬드프라이데이</td>\n",
       "      <td>9.97</td>\n",
       "      <td>https://comic.naver.com/webtoon/list.nhn?title...</td>\n",
       "      <td>https://shared-comic.pstatic.net/thumb/webtoon...</td>\n",
       "      <td>2018.08.23</td>\n",
       "    </tr>\n",
       "    <tr>\n",
       "      <th>548</th>\n",
       "      <td>703840</td>\n",
       "      <td>한국만화 19...</td>\n",
       "      <td>웹툰작가</td>\n",
       "      <td>9.75</td>\n",
       "      <td>https://comic.naver.com/webtoon/list.nhn?title...</td>\n",
       "      <td>https://shared-comic.pstatic.net/thumb/webtoon...</td>\n",
       "      <td>2018.05.17</td>\n",
       "    </tr>\n",
       "    <tr>\n",
       "      <th>549</th>\n",
       "      <td>336945</td>\n",
       "      <td>길에서 만나다</td>\n",
       "      <td>쥬드 프라이데이</td>\n",
       "      <td>9.75</td>\n",
       "      <td>https://comic.naver.com/webtoon/list.nhn?title...</td>\n",
       "      <td>https://shared-comic.pstatic.net/thumb/webtoon...</td>\n",
       "      <td>2013.01.17</td>\n",
       "    </tr>\n",
       "    <tr>\n",
       "      <th>550</th>\n",
       "      <td>515883</td>\n",
       "      <td>사또(Satt...</td>\n",
       "      <td>최윤진</td>\n",
       "      <td>9.80</td>\n",
       "      <td>https://comic.naver.com/webtoon/list.nhn?title...</td>\n",
       "      <td>https://shared-comic.pstatic.net/thumb/webtoon...</td>\n",
       "      <td>2015.12.29</td>\n",
       "    </tr>\n",
       "    <tr>\n",
       "      <th>551</th>\n",
       "      <td>347685</td>\n",
       "      <td>슈퍼트리오 시...</td>\n",
       "      <td>황미나</td>\n",
       "      <td>7.36</td>\n",
       "      <td>https://comic.naver.com/webtoon/list.nhn?title...</td>\n",
       "      <td>https://shared-comic.pstatic.net/thumb/webtoon...</td>\n",
       "      <td>2012.06.04</td>\n",
       "    </tr>\n",
       "  </tbody>\n",
       "</table>\n",
       "</div>"
      ],
      "text/plain": [
       "    unique_id       title    author total_score  \\\n",
       "547    622643     진눈깨비 소년   쥬드프라이데이        9.97   \n",
       "548    703840  한국만화 19...      웹툰작가        9.75   \n",
       "549    336945     길에서 만나다  쥬드 프라이데이        9.75   \n",
       "550    515883  사또(Satt...       최윤진        9.80   \n",
       "551    347685  슈퍼트리오 시...       황미나        7.36   \n",
       "\n",
       "                                             main_link  \\\n",
       "547  https://comic.naver.com/webtoon/list.nhn?title...   \n",
       "548  https://comic.naver.com/webtoon/list.nhn?title...   \n",
       "549  https://comic.naver.com/webtoon/list.nhn?title...   \n",
       "550  https://comic.naver.com/webtoon/list.nhn?title...   \n",
       "551  https://comic.naver.com/webtoon/list.nhn?title...   \n",
       "\n",
       "                                            image_link update_date  \n",
       "547  https://shared-comic.pstatic.net/thumb/webtoon...  2018.08.23  \n",
       "548  https://shared-comic.pstatic.net/thumb/webtoon...  2018.05.17  \n",
       "549  https://shared-comic.pstatic.net/thumb/webtoon...  2013.01.17  \n",
       "550  https://shared-comic.pstatic.net/thumb/webtoon...  2015.12.29  \n",
       "551  https://shared-comic.pstatic.net/thumb/webtoon...  2012.06.04  "
      ]
     },
     "execution_count": 140,
     "metadata": {},
     "output_type": "execute_result"
    }
   ],
   "source": [
    "df.tail()"
   ]
  },
  {
   "cell_type": "code",
   "execution_count": 115,
   "metadata": {},
   "outputs": [
    {
     "data": {
      "text/plain": [
       "47"
      ]
     },
     "execution_count": 115,
     "metadata": {},
     "output_type": "execute_result"
    }
   ],
   "source": [
    "link = \"https://comic.naver.com/webtoon/genre.nhn?genre=episode\"\n",
    "link.index(\"=\")"
   ]
  },
  {
   "cell_type": "code",
   "execution_count": 116,
   "metadata": {},
   "outputs": [
    {
     "data": {
      "text/plain": [
       "'episode'"
      ]
     },
     "execution_count": 116,
     "metadata": {},
     "output_type": "execute_result"
    }
   ],
   "source": [
    "link[48:]"
   ]
  },
  {
   "cell_type": "markdown",
   "metadata": {},
   "source": [
    "#### 함수화"
   ]
  },
  {
   "cell_type": "code",
   "execution_count": 16,
   "metadata": {},
   "outputs": [],
   "source": [
    "# 함수화\n",
    "def naver_webtoon(genre):\n",
    "    url =  \"https://comic.naver.com/webtoon/genre.nhn?genre=\" + genre\n",
    "    response = requests.get(url)\n",
    "    dom = BeautifulSoup(response.content, \"html.parser\")\n",
    "    keywords = dom.select(\".list_area > .img_list > li\")\n",
    "    dic = {}\n",
    "    dic['unique_id'] = []\n",
    "    dic['title'] = []\n",
    "    dic['author'] = []\n",
    "    dic['total_score'] = []\n",
    "    dic['main_link'] = []\n",
    "    dic['image_link'] = []\n",
    "    dic['update_date'] = []\n",
    "\n",
    "    # title, author, total score\n",
    "    for keyword in keywords:\n",
    "        dic['title'].append(keyword.select_one(\"dl > dt > a\").text)\n",
    "        dic['author'].append(keyword.select_one(\"dl > dd > a\").text)\n",
    "        dic['total_score'].append(keyword.select_one(\"dl > dd > .rating_type > strong\").text)\n",
    "        dic['update_date'].append(keyword.select_one(\"dl > dd.date2\").text)\n",
    "\n",
    "    # unique id \n",
    "    unique_id_list = dom.select(\"dl > dt > a\")\n",
    "    for i in range(len(unique_id_list)):\n",
    "        idx = unique_id_list[i].get('href').index(\"=\")\n",
    "        dic['unique_id'].append(unique_id_list[i].get('href')[idx+1:])\n",
    "\n",
    "    # main link\n",
    "    main_link_list = dom.select(\"dl > dt > a\")\n",
    "    for i in range(len(main_link_list)):\n",
    "        dic['main_link'].append(\"https://comic.naver.com\" + main_link_list[i].get('href'))\n",
    "\n",
    "    # image link\n",
    "    image_link_list = dom.select(\".list_area > .img_list > li > .thumb > a > img:nth-of-type(1)\")\n",
    "    for i in range(len(image_link_list)):\n",
    "        dic['image_link'].append(image_link_list[i].get('src'))\n",
    "        \n",
    "    return dic"
   ]
  },
  {
   "cell_type": "code",
   "execution_count": 17,
   "metadata": {},
   "outputs": [
    {
     "name": "stdout",
     "output_type": "stream",
     "text": [
      "total_score 114\n",
      "main_link 114\n",
      "unique_id 114\n",
      "title 114\n",
      "author 114\n",
      "update_date 114\n",
      "image_link 114\n"
     ]
    }
   ],
   "source": [
    "episode = naver_webtoon(\"episode\")\n",
    "for i in set(episode.keys()):\n",
    "    print(i ,len(episode[i]))"
   ]
  },
  {
   "cell_type": "code",
   "execution_count": 18,
   "metadata": {},
   "outputs": [
    {
     "name": "stdout",
     "output_type": "stream",
     "text": [
      "total_score 552\n",
      "main_link 552\n",
      "unique_id 552\n",
      "title 552\n",
      "author 552\n",
      "update_date 552\n",
      "image_link 552\n"
     ]
    }
   ],
   "source": [
    "story = naver_webtoon(\"story\")\n",
    "for i in set(story.keys()):\n",
    "    print(i ,len(story[i]))"
   ]
  },
  {
   "cell_type": "code",
   "execution_count": 19,
   "metadata": {},
   "outputs": [
    {
     "name": "stdout",
     "output_type": "stream",
     "text": [
      "total_score 78\n",
      "main_link 78\n",
      "unique_id 78\n",
      "title 78\n",
      "author 78\n",
      "update_date 78\n",
      "image_link 78\n"
     ]
    }
   ],
   "source": [
    "omnibus = naver_webtoon(\"omnibus\")\n",
    "for i in set(omnibus.keys()):\n",
    "    print(i, len(omnibus[i]))"
   ]
  },
  {
   "cell_type": "code",
   "execution_count": 20,
   "metadata": {},
   "outputs": [
    {
     "data": {
      "text/html": [
       "<div>\n",
       "<style scoped>\n",
       "    .dataframe tbody tr th:only-of-type {\n",
       "        vertical-align: middle;\n",
       "    }\n",
       "\n",
       "    .dataframe tbody tr th {\n",
       "        vertical-align: top;\n",
       "    }\n",
       "\n",
       "    .dataframe thead th {\n",
       "        text-align: right;\n",
       "    }\n",
       "</style>\n",
       "<table border=\"1\" class=\"dataframe\">\n",
       "  <thead>\n",
       "    <tr style=\"text-align: right;\">\n",
       "      <th></th>\n",
       "      <th>unique_id</th>\n",
       "      <th>title</th>\n",
       "      <th>author</th>\n",
       "      <th>total_score</th>\n",
       "      <th>main_link</th>\n",
       "      <th>image_link</th>\n",
       "      <th>update_date</th>\n",
       "    </tr>\n",
       "  </thead>\n",
       "  <tbody>\n",
       "    <tr>\n",
       "      <th>547</th>\n",
       "      <td>622643</td>\n",
       "      <td>진눈깨비 소년</td>\n",
       "      <td>쥬드프라이데이</td>\n",
       "      <td>9.97</td>\n",
       "      <td>https://comic.naver.com/webtoon/list.nhn?title...</td>\n",
       "      <td>https://shared-comic.pstatic.net/thumb/webtoon...</td>\n",
       "      <td>2018.08.23</td>\n",
       "    </tr>\n",
       "    <tr>\n",
       "      <th>548</th>\n",
       "      <td>703840</td>\n",
       "      <td>한국만화 19...</td>\n",
       "      <td>웹툰작가</td>\n",
       "      <td>9.75</td>\n",
       "      <td>https://comic.naver.com/webtoon/list.nhn?title...</td>\n",
       "      <td>https://shared-comic.pstatic.net/thumb/webtoon...</td>\n",
       "      <td>2018.05.17</td>\n",
       "    </tr>\n",
       "    <tr>\n",
       "      <th>549</th>\n",
       "      <td>336945</td>\n",
       "      <td>길에서 만나다</td>\n",
       "      <td>쥬드 프라이데이</td>\n",
       "      <td>9.75</td>\n",
       "      <td>https://comic.naver.com/webtoon/list.nhn?title...</td>\n",
       "      <td>https://shared-comic.pstatic.net/thumb/webtoon...</td>\n",
       "      <td>2013.01.17</td>\n",
       "    </tr>\n",
       "    <tr>\n",
       "      <th>550</th>\n",
       "      <td>515883</td>\n",
       "      <td>사또(Satt...</td>\n",
       "      <td>최윤진</td>\n",
       "      <td>9.80</td>\n",
       "      <td>https://comic.naver.com/webtoon/list.nhn?title...</td>\n",
       "      <td>https://shared-comic.pstatic.net/thumb/webtoon...</td>\n",
       "      <td>2015.12.29</td>\n",
       "    </tr>\n",
       "    <tr>\n",
       "      <th>551</th>\n",
       "      <td>347685</td>\n",
       "      <td>슈퍼트리오 시...</td>\n",
       "      <td>황미나</td>\n",
       "      <td>7.36</td>\n",
       "      <td>https://comic.naver.com/webtoon/list.nhn?title...</td>\n",
       "      <td>https://shared-comic.pstatic.net/thumb/webtoon...</td>\n",
       "      <td>2012.06.04</td>\n",
       "    </tr>\n",
       "  </tbody>\n",
       "</table>\n",
       "</div>"
      ],
      "text/plain": [
       "    unique_id       title    author total_score  \\\n",
       "547    622643     진눈깨비 소년   쥬드프라이데이        9.97   \n",
       "548    703840  한국만화 19...      웹툰작가        9.75   \n",
       "549    336945     길에서 만나다  쥬드 프라이데이        9.75   \n",
       "550    515883  사또(Satt...       최윤진        9.80   \n",
       "551    347685  슈퍼트리오 시...       황미나        7.36   \n",
       "\n",
       "                                             main_link  \\\n",
       "547  https://comic.naver.com/webtoon/list.nhn?title...   \n",
       "548  https://comic.naver.com/webtoon/list.nhn?title...   \n",
       "549  https://comic.naver.com/webtoon/list.nhn?title...   \n",
       "550  https://comic.naver.com/webtoon/list.nhn?title...   \n",
       "551  https://comic.naver.com/webtoon/list.nhn?title...   \n",
       "\n",
       "                                            image_link update_date  \n",
       "547  https://shared-comic.pstatic.net/thumb/webtoon...  2018.08.23  \n",
       "548  https://shared-comic.pstatic.net/thumb/webtoon...  2018.05.17  \n",
       "549  https://shared-comic.pstatic.net/thumb/webtoon...  2013.01.17  \n",
       "550  https://shared-comic.pstatic.net/thumb/webtoon...  2015.12.29  \n",
       "551  https://shared-comic.pstatic.net/thumb/webtoon...  2012.06.04  "
      ]
     },
     "execution_count": 20,
     "metadata": {},
     "output_type": "execute_result"
    }
   ],
   "source": [
    "story_df = pd.DataFrame(story)\n",
    "story_df.tail()"
   ]
  },
  {
   "cell_type": "code",
   "execution_count": 21,
   "metadata": {
    "scrolled": true
   },
   "outputs": [
    {
     "data": {
      "text/plain": [
       "0      641253\n",
       "1      325629\n",
       "2      570503\n",
       "3      150388\n",
       "4      697685\n",
       "5      318995\n",
       "6      662774\n",
       "7      626907\n",
       "8      183559\n",
       "9      703846\n",
       "10      26309\n",
       "11     597447\n",
       "12      22896\n",
       "13     179704\n",
       "14     648419\n",
       "15      26205\n",
       "16     650305\n",
       "17     602910\n",
       "18      67235\n",
       "19      26310\n",
       "20      65410\n",
       "21     697656\n",
       "22     568986\n",
       "23     701081\n",
       "24     708378\n",
       "25      25455\n",
       "26     434644\n",
       "27     400737\n",
       "28     667573\n",
       "29     654774\n",
       "        ...  \n",
       "522    710390\n",
       "523    675474\n",
       "524    702165\n",
       "525    675829\n",
       "526    647948\n",
       "527    258207\n",
       "528    260510\n",
       "529    310616\n",
       "530    630386\n",
       "531    658823\n",
       "532    502673\n",
       "533    670131\n",
       "534    664406\n",
       "535    612767\n",
       "536    548870\n",
       "537    700361\n",
       "538    686669\n",
       "539    423376\n",
       "540    619329\n",
       "541    517252\n",
       "542    113586\n",
       "543    578109\n",
       "544    551648\n",
       "545    669357\n",
       "546    668103\n",
       "547    622643\n",
       "548    703840\n",
       "549    336945\n",
       "550    515883\n",
       "551    347685\n",
       "Name: unique_id, Length: 552, dtype: object"
      ]
     },
     "execution_count": 21,
     "metadata": {},
     "output_type": "execute_result"
    }
   ],
   "source": [
    "story_df['unique_id']"
   ]
  },
  {
   "cell_type": "markdown",
   "metadata": {},
   "source": [
    "##### 장르 구분(main, sub)\n",
    "- main genre : 에피소드, 옴니버스, 스토리\n",
    "- sub genre : 일상, 개그, 판타지, 액션, 드라마, 순정, 감성, 스릴러, 시대극, 스포츠"
   ]
  },
  {
   "cell_type": "code",
   "execution_count": null,
   "metadata": {},
   "outputs": [],
   "source": []
  },
  {
   "cell_type": "code",
   "execution_count": null,
   "metadata": {},
   "outputs": [],
   "source": []
  },
  {
   "cell_type": "code",
   "execution_count": null,
   "metadata": {},
   "outputs": [],
   "source": []
  },
  {
   "cell_type": "code",
   "execution_count": null,
   "metadata": {},
   "outputs": [],
   "source": []
  },
  {
   "cell_type": "code",
   "execution_count": null,
   "metadata": {},
   "outputs": [],
   "source": []
  },
  {
   "cell_type": "code",
   "execution_count": null,
   "metadata": {},
   "outputs": [],
   "source": []
  }
 ],
 "metadata": {
  "kernelspec": {
   "display_name": "Python 3",
   "language": "python",
   "name": "python3"
  },
  "language_info": {
   "codemirror_mode": {
    "name": "ipython",
    "version": 3
   },
   "file_extension": ".py",
   "mimetype": "text/x-python",
   "name": "python",
   "nbconvert_exporter": "python",
   "pygments_lexer": "ipython3",
   "version": "3.6.6"
  }
 },
 "nbformat": 4,
 "nbformat_minor": 2
}
