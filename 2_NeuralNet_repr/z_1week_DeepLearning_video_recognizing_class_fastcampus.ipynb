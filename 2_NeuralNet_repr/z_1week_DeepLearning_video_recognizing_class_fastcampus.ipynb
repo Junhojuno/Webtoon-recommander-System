{
 "cells": [
  {
   "cell_type": "code",
   "execution_count": null,
   "metadata": {},
   "outputs": [],
   "source": [
    "#텐서플로,케라스 cpu, gpu 선택을 위해 지원되는 디바이스 넘보 보기\n",
    "from tensorflow.python.client import device_lib\n",
    "device_lib.list_local_devices()"
   ]
  },
  {
   "cell_type": "code",
   "execution_count": null,
   "metadata": {},
   "outputs": [],
   "source": [
    "from IPython.display import clear_output # clear_output() 으로 아웃풋 제거 가능\n",
    "from IPython.core.interactiveshell import InteractiveShell\n",
    "InteractiveShell.ast_node_interactivity = \"all\"\n",
    "\n",
    "import warnings # 경고가 너무 많이뜨는경우 주피터가 죽음.... 아래 주석 해제하여 워닝끄면 됨\n",
    "# warnings.filterwarnings('ignore')\n",
    "\n",
    "import numpy as np\n",
    "import scipy as sp\n",
    "import pandas as pd\n",
    "import statsmodels.api as sm\n",
    "import statsmodels.formula.api as smf\n",
    "import statsmodels.stats.api as sms\n",
    "import sklearn as sk\n",
    "\n",
    "%matplotlib inline\n",
    "%config InlineBackend.figure_formats = {'png','retina'}\n",
    "\n",
    "import matplotlib as mpl\n",
    "import matplotlib.pylab as plt\n",
    "from mpl_toolkits.mplot3d import Axes3D\n",
    "\n",
    "import seaborn as sns\n",
    "sns.set()\n",
    "sns.set_style(\"whitegrid\")\n",
    "sns.set_color_codes()\n",
    "\n",
    "pd.set_option('display.max_columns', 200)\n",
    "pd.set_option('display.width', 1000)\n",
    "\n",
    "#한글폰트 적용\n",
    "from matplotlib import font_manager, rc\n",
    "font_name = font_manager.FontProperties(fname=\"c:/Windows/Fonts/malgun.ttf\").get_name()\n",
    "rc('font', family=font_name)\n",
    "#음수처리\n",
    "mpl.rcParams['axes.unicode_minus'] = False"
   ]
  },
  {
   "cell_type": "markdown",
   "metadata": {},
   "source": [
    "## 수업 git\n",
    "- https://github.com/solaris33/dl_cv_tensorflow_10weeks\n",
    "\n",
    "## 수업 자료\n",
    "- http://solarisailab.com/fastcampus_dl_cv_10weeks_(6th).html\n",
    "\n",
    "## 강사님 딥러닝 블로그\n",
    "- http://solarisailab.com/"
   ]
  },
  {
   "cell_type": "markdown",
   "metadata": {},
   "source": [
    "---\n",
    "# 1주차 수업이후 해볼것\n",
    "\n",
    "1. 수업내용 및 모든 git 저장소 훑어보기\n",
    "2. NN종류 및 사용용도 등 손필기로 정리하기\n",
    "3. 1주차 수업자료 모두 훑어보기\n",
    "4. 텐서플로로 여러가지 공부, 코드 눈으로 익히기 및 학습하기\n",
    "    - 옵티마이저 종류 찾이보고 정리\n",
    "    - 활성화함수 종류 찾아보고 정리 sigmoid, rely 등등 (강의자료 참고해서 찾아보자)\n",
    "    - 분류기 종류 찾아보고 정리 softmax 등등\n",
    "    - 최적화함수 종류 찾아보고 정리 adam, gradientdecent, 등등\n",
    "5. 코드 예습 및 복습하기~!!"
   ]
  },
  {
   "cell_type": "markdown",
   "metadata": {},
   "source": [
    "# 텐서플로 및 여러가지 딥러닝모델 기초 작성법\n",
    "1. 가설정의(hypothesis)\n",
    "    - tf.Variable\n",
    "    - tf.placeholder\n",
    "    - logits = tf.matmul\n",
    "2. 손실함수(loss(cost) function)\n",
    "    - tf.nn.cross_entropy....\n",
    "    - tf.nn.reduce_mean....\n",
    "3. 최적화정의(optimizer)\n",
    "    - tf.train.GradientDescentOptimizer(0.5).minimize(loss)\n",
    "    - tf.train.AdamOptimizer(0.001).minimize(cost)\n",
    "4. 학습(learning)\n",
    "    - sess = tf.Session()\n",
    "    - sess.run(tf.global_variables_initializer())\n",
    "5. 모델정확도 측정(prediction and validation)\n",
    "    - prediction = tf.equal(tf.argmax....))\n",
    "    - accuracy = tf.reduce_mean(tf.cast(....))"
   ]
  },
  {
   "cell_type": "markdown",
   "metadata": {},
   "source": [
    "---\n",
    "# Deep Learning의 정의\n",
    "1. 딥러닝은 깊은 학습이다\n",
    "2. 딥러닝은 Feature Learning이다(특징학습)\n",
    "3. deep learning(CNN,LSTM) < machine learning(로지스틱,svm) < artificial intelligence\n",
    "\n",
    "## 머신러닝의 세가지 분류\n",
    "1. 지도학습(supervised) - labeled data, direct feedback, predict outcome/future\n",
    "2. 비지도학습(unsupervised) - no labels, no feedback, fine hidden structure\n",
    "3. 강화학습(reinforcement) - decision process, reward system, learn series of action\n",
    "\n",
    "## 머신러닝의 기본석 프로세스\n",
    "1. 학습하고자하는 가성(hypothesis) θ을 수학적 표현식으로 나타낸다.\n",
    "2. 가성의 성능을 측정할 수 있는 비용함수(cost function) J(θ)을 정의한다.\n",
    "3. cost function을 최소화 할 수 있는 학습알고리즘을 설계한다."
   ]
  }
 ],
 "metadata": {
  "kernelspec": {
   "display_name": "Python 3",
   "language": "python",
   "name": "python3"
  },
  "language_info": {
   "codemirror_mode": {
    "name": "ipython",
    "version": 3
   },
   "file_extension": ".py",
   "mimetype": "text/x-python",
   "name": "python",
   "nbconvert_exporter": "python",
   "pygments_lexer": "ipython3",
   "version": "3.6.3"
  }
 },
 "nbformat": 4,
 "nbformat_minor": 2
}
