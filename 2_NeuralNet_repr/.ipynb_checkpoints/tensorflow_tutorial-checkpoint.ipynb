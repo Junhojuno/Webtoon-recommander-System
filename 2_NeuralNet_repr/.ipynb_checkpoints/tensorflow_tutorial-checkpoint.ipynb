{
 "cells": [
  {
   "cell_type": "markdown",
   "metadata": {},
   "source": [
    "# 텐서플로우 튜토리얼 연습과 코드 인덱스 사전\n",
    "- 튜토리얼을 제공하는 깃허브 https://github.com/golbin/TensorFlow-Tutorials"
   ]
  },
  {
   "cell_type": "markdown",
   "metadata": {},
   "source": [
    "### Variable\n",
    "- 텐서플로우의 플레이스 홀더와 변수의 개념을 익히자"
   ]
  },
  {
   "cell_type": "code",
   "execution_count": 5,
   "metadata": {},
   "outputs": [
    {
     "name": "stdout",
     "output_type": "stream",
     "text": [
      "Tensor(\"Placeholder_1:0\", shape=(?, 3), dtype=float32)\n",
      "=== x_data ===\n",
      "[[1, 2, 3], [4, 5, 6]]\n",
      "=== W ===\n",
      "[[-0.291262   -0.11953487]\n",
      " [-0.17635864  0.3196032 ]\n",
      " [ 0.96932673 -1.17966092]]\n",
      "=== b ===\n",
      "[[-0.78580576]\n",
      " [ 1.48390293]]\n",
      "===expr====\n",
      "[[ 1.47819519 -3.80511713]\n",
      " [ 5.25302219 -4.47418642]]\n"
     ]
    }
   ],
   "source": [
    "import tensorflow as tf\n",
    "\n",
    "#placeholder : 계산을 실행할 때 입력값을 받는 변수로 사용한다.\n",
    "#None은 크기가 정해지지 않았음을 의미함\n",
    "X = tf.placeholder(tf.float32, [None, 3])\n",
    "print(X)\n",
    "\n",
    "# X플레이스홀더에 넣을값\n",
    "# 플레이스홀더에서 설정한 것처럼, 두번째 차원의 요소갯수는 3개\n",
    "x_data = [[1,2,3],[4,5,6]]\n",
    "\n",
    "#Variable : 그래프를 계산하면서 최적화 할 변수들. 이 값이 신경망을 좌우하는 값\n",
    "# random_normal : 각 변수들의 초기값을 정규분포랜덤값으로 초기화\n",
    "W = tf.Variable(tf.random_normal([3,2]))\n",
    "b = tf.Variable(tf.random_normal([2,1]))\n",
    "\n",
    "# 입력값과 변수들을 계산할 수식을 작성\n",
    "# tf.matmul 처럼 mat*로 되어있는 함수로 행렬계산을 수행\n",
    "expr = tf.matmul(X,W) + b\n",
    "\n",
    "sess = tf.Session()\n",
    "# 위에서 설정한 Variable들의 값을 초기화 해야됨\n",
    "# 처음에 tf.global_variables_initializer 를 한 번 실행해야함\n",
    "sess.run(tf.global_variables_initializer())\n",
    "\n",
    "print(\"=== x_data ===\")\n",
    "print(x_data)\n",
    "print(\"=== W ===\")\n",
    "print(sess.run(W))\n",
    "print(\"=== b ===\")\n",
    "print(sess.run(b))\n",
    "print(\"===expr====\")\n",
    "print(sess.run(expr, feed_dict={X:x_data}))\n",
    "# expr 수식에는 X라는 입력값이 필요\n",
    "# 따라서 expr 실행시 이 변수에 대한 실제 입력값을 넣어줘야함\n",
    "\n",
    "sess.close()"
   ]
  },
  {
   "cell_type": "markdown",
   "metadata": {},
   "source": [
    "### basic\n",
    "- 텐서플로우의 연산의 개념과 그래프를 실행하는 방법을 익힙니다."
   ]
  },
  {
   "cell_type": "code",
   "execution_count": 3,
   "metadata": {},
   "outputs": [
    {
     "name": "stdout",
     "output_type": "stream",
     "text": [
      "Tensor(\"Const_6:0\", shape=(), dtype=string)\n",
      "Tensor(\"Add_2:0\", shape=(), dtype=int32)\n",
      "b'Hello,TensorFlow!'\n",
      "[10, 32, 42]\n"
     ]
    }
   ],
   "source": [
    "import tensorflow as tf\n",
    "\n",
    "# constant : 상수임\n",
    "hello = tf.constant('Hello,TensorFlow!')\n",
    "print(hello)\n",
    "\n",
    "a = tf.constant(10)\n",
    "b = tf.constant(32)\n",
    "c = tf.add(a,b) # a+b로도 쓸 수 있다.\n",
    "print(c)\n",
    "\n",
    "# 위에서 변수와 수식들을 정의했지만, 실행이 정의한 시점에서 실행되는 것이 아님. 뭔가 스파크처럼 게으른 느낌\n",
    "# Session 객제와 run 메소드를 사용할 때 비로소 계산실행.\n",
    "# 따라서 모델을 구성하는 것과, 실행하는 것을 분리하여 프로그램을 깔끔하게 작성할 수 있음!!!\n",
    "# 그래프를 실행할 세션을 구성\n",
    "sess = tf.Session()\n",
    "\n",
    "print(sess.run(hello))\n",
    "print(sess.run([a,b,c]))\n",
    "\n",
    "#세션닫기\n",
    "sess.close()\n",
    "\n",
    "\n"
   ]
  }
 ],
 "metadata": {
  "kernelspec": {
   "display_name": "Python 3",
   "language": "python",
   "name": "python3"
  },
  "language_info": {
   "codemirror_mode": {
    "name": "ipython",
    "version": 3
   },
   "file_extension": ".py",
   "mimetype": "text/x-python",
   "name": "python",
   "nbconvert_exporter": "python",
   "pygments_lexer": "ipython3",
   "version": "3.6.3"
  }
 },
 "nbformat": 4,
 "nbformat_minor": 2
}
